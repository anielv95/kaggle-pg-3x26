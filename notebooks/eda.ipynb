{
 "cells": [
  {
   "cell_type": "markdown",
   "metadata": {},
   "source": [
    "# Importing libraries"
   ]
  },
  {
   "cell_type": "code",
   "execution_count": 131,
   "metadata": {},
   "outputs": [],
   "source": [
    "import sys\n",
    "sys.path.insert(1, '/gh/kaggle-pg-3x26')\n",
    "import zipfile\n",
    "import pandas as pd\n",
    "\n",
    "from pandas.plotting import scatter_matrix\n",
    "import matplotlib.pyplot as plt\n",
    "import seaborn as sns\n",
    "\n",
    "from sklearn.model_selection import cross_val_score, train_test_split\n",
    "from sklearn.ensemble import RandomForestClassifier\n",
    "#from sklearn.metrics import roc_auc_score\n",
    "from sklearn.metrics import log_loss\n",
    "from sklearn.feature_extraction import DictVectorizer\n",
    "from sklearn.preprocessing import OneHotEncoder\n",
    "import pickle\n",
    "import src.functions as func\n",
    "import requests\n",
    "import seaborn as sn\n",
    "from sklearn.linear_model import SGDClassifier\n",
    "from sklearn.feature_extraction import DictVectorizer"
   ]
  },
  {
   "cell_type": "code",
   "execution_count": 52,
   "metadata": {},
   "outputs": [],
   "source": [
    "plt.rc('font', size=14)\n",
    "plt.rc('axes', labelsize=14, titlesize=14)\n",
    "plt.rc('legend', fontsize=14)\n",
    "plt.rc('xtick', labelsize=10)\n",
    "plt.rc('ytick', labelsize=10)"
   ]
  },
  {
   "cell_type": "markdown",
   "metadata": {},
   "source": [
    "# Getting data"
   ]
  },
  {
   "cell_type": "code",
   "execution_count": 4,
   "metadata": {},
   "outputs": [],
   "source": [
    "with zipfile.ZipFile(\"/gh/kaggle-pg-3x26/data/playground-series-s3e26.zip\") as z:\n",
    "    with z.open(\"sample_submission.csv\") as f:\n",
    "        sample_submission = pd.read_csv(f)\n",
    "    with z.open(\"test.csv\") as f:\n",
    "        test = pd.read_csv(f)\n",
    "    with z.open(\"train.csv\") as f:\n",
    "        train = pd.read_csv(f)"
   ]
  },
  {
   "cell_type": "markdown",
   "metadata": {},
   "source": [
    "# Exploring data"
   ]
  },
  {
   "cell_type": "code",
   "execution_count": 5,
   "metadata": {},
   "outputs": [
    {
     "name": "stdout",
     "output_type": "stream",
     "text": [
      "<class 'pandas.core.frame.DataFrame'>\n",
      "RangeIndex: 5271 entries, 0 to 5270\n",
      "Data columns (total 4 columns):\n",
      " #   Column     Non-Null Count  Dtype  \n",
      "---  ------     --------------  -----  \n",
      " 0   id         5271 non-null   int64  \n",
      " 1   Status_C   5271 non-null   float64\n",
      " 2   Status_CL  5271 non-null   float64\n",
      " 3   Status_D   5271 non-null   float64\n",
      "dtypes: float64(3), int64(1)\n",
      "memory usage: 164.8 KB\n"
     ]
    }
   ],
   "source": [
    "sample_submission.info()"
   ]
  },
  {
   "cell_type": "code",
   "execution_count": 6,
   "metadata": {},
   "outputs": [
    {
     "name": "stdout",
     "output_type": "stream",
     "text": [
      "<class 'pandas.core.frame.DataFrame'>\n",
      "RangeIndex: 7905 entries, 0 to 7904\n",
      "Data columns (total 20 columns):\n",
      " #   Column         Non-Null Count  Dtype  \n",
      "---  ------         --------------  -----  \n",
      " 0   id             7905 non-null   int64  \n",
      " 1   N_Days         7905 non-null   int64  \n",
      " 2   Drug           7905 non-null   object \n",
      " 3   Age            7905 non-null   int64  \n",
      " 4   Sex            7905 non-null   object \n",
      " 5   Ascites        7905 non-null   object \n",
      " 6   Hepatomegaly   7905 non-null   object \n",
      " 7   Spiders        7905 non-null   object \n",
      " 8   Edema          7905 non-null   object \n",
      " 9   Bilirubin      7905 non-null   float64\n",
      " 10  Cholesterol    7905 non-null   float64\n",
      " 11  Albumin        7905 non-null   float64\n",
      " 12  Copper         7905 non-null   float64\n",
      " 13  Alk_Phos       7905 non-null   float64\n",
      " 14  SGOT           7905 non-null   float64\n",
      " 15  Tryglicerides  7905 non-null   float64\n",
      " 16  Platelets      7905 non-null   float64\n",
      " 17  Prothrombin    7905 non-null   float64\n",
      " 18  Stage          7905 non-null   float64\n",
      " 19  Status         7905 non-null   object \n",
      "dtypes: float64(10), int64(3), object(7)\n",
      "memory usage: 1.2+ MB\n"
     ]
    }
   ],
   "source": [
    "train.info()"
   ]
  },
  {
   "cell_type": "code",
   "execution_count": 7,
   "metadata": {},
   "outputs": [
    {
     "name": "stdout",
     "output_type": "stream",
     "text": [
      "<class 'pandas.core.frame.DataFrame'>\n",
      "RangeIndex: 5271 entries, 0 to 5270\n",
      "Data columns (total 19 columns):\n",
      " #   Column         Non-Null Count  Dtype  \n",
      "---  ------         --------------  -----  \n",
      " 0   id             5271 non-null   int64  \n",
      " 1   N_Days         5271 non-null   int64  \n",
      " 2   Drug           5271 non-null   object \n",
      " 3   Age            5271 non-null   int64  \n",
      " 4   Sex            5271 non-null   object \n",
      " 5   Ascites        5271 non-null   object \n",
      " 6   Hepatomegaly   5271 non-null   object \n",
      " 7   Spiders        5271 non-null   object \n",
      " 8   Edema          5271 non-null   object \n",
      " 9   Bilirubin      5271 non-null   float64\n",
      " 10  Cholesterol    5271 non-null   float64\n",
      " 11  Albumin        5271 non-null   float64\n",
      " 12  Copper         5271 non-null   float64\n",
      " 13  Alk_Phos       5271 non-null   float64\n",
      " 14  SGOT           5271 non-null   float64\n",
      " 15  Tryglicerides  5271 non-null   float64\n",
      " 16  Platelets      5271 non-null   float64\n",
      " 17  Prothrombin    5271 non-null   float64\n",
      " 18  Stage          5271 non-null   float64\n",
      "dtypes: float64(10), int64(3), object(6)\n",
      "memory usage: 782.5+ KB\n"
     ]
    }
   ],
   "source": [
    "test.info()"
   ]
  },
  {
   "cell_type": "code",
   "execution_count": 8,
   "metadata": {},
   "outputs": [
    {
     "data": {
      "text/plain": [
       "7905"
      ]
     },
     "execution_count": 8,
     "metadata": {},
     "output_type": "execute_result"
    }
   ],
   "source": [
    "test[\"id\"].min()"
   ]
  },
  {
   "cell_type": "code",
   "execution_count": 17,
   "metadata": {},
   "outputs": [
    {
     "data": {
      "text/html": [
       "<div>\n",
       "<style scoped>\n",
       "    .dataframe tbody tr th:only-of-type {\n",
       "        vertical-align: middle;\n",
       "    }\n",
       "\n",
       "    .dataframe tbody tr th {\n",
       "        vertical-align: top;\n",
       "    }\n",
       "\n",
       "    .dataframe thead th {\n",
       "        text-align: right;\n",
       "    }\n",
       "</style>\n",
       "<table border=\"1\" class=\"dataframe\">\n",
       "  <thead>\n",
       "    <tr style=\"text-align: right;\">\n",
       "      <th></th>\n",
       "      <th>0</th>\n",
       "      <th>1</th>\n",
       "      <th>2</th>\n",
       "    </tr>\n",
       "  </thead>\n",
       "  <tbody>\n",
       "    <tr>\n",
       "      <th>id</th>\n",
       "      <td>0</td>\n",
       "      <td>1</td>\n",
       "      <td>2</td>\n",
       "    </tr>\n",
       "    <tr>\n",
       "      <th>N_Days</th>\n",
       "      <td>999</td>\n",
       "      <td>2574</td>\n",
       "      <td>3428</td>\n",
       "    </tr>\n",
       "    <tr>\n",
       "      <th>Drug</th>\n",
       "      <td>D-penicillamine</td>\n",
       "      <td>Placebo</td>\n",
       "      <td>Placebo</td>\n",
       "    </tr>\n",
       "    <tr>\n",
       "      <th>Age</th>\n",
       "      <td>21532</td>\n",
       "      <td>19237</td>\n",
       "      <td>13727</td>\n",
       "    </tr>\n",
       "    <tr>\n",
       "      <th>Sex</th>\n",
       "      <td>M</td>\n",
       "      <td>F</td>\n",
       "      <td>F</td>\n",
       "    </tr>\n",
       "    <tr>\n",
       "      <th>Ascites</th>\n",
       "      <td>N</td>\n",
       "      <td>N</td>\n",
       "      <td>N</td>\n",
       "    </tr>\n",
       "    <tr>\n",
       "      <th>Hepatomegaly</th>\n",
       "      <td>N</td>\n",
       "      <td>N</td>\n",
       "      <td>Y</td>\n",
       "    </tr>\n",
       "    <tr>\n",
       "      <th>Spiders</th>\n",
       "      <td>N</td>\n",
       "      <td>N</td>\n",
       "      <td>Y</td>\n",
       "    </tr>\n",
       "    <tr>\n",
       "      <th>Edema</th>\n",
       "      <td>N</td>\n",
       "      <td>N</td>\n",
       "      <td>Y</td>\n",
       "    </tr>\n",
       "    <tr>\n",
       "      <th>Bilirubin</th>\n",
       "      <td>2.3</td>\n",
       "      <td>0.9</td>\n",
       "      <td>3.3</td>\n",
       "    </tr>\n",
       "    <tr>\n",
       "      <th>Cholesterol</th>\n",
       "      <td>316.0</td>\n",
       "      <td>364.0</td>\n",
       "      <td>299.0</td>\n",
       "    </tr>\n",
       "    <tr>\n",
       "      <th>Albumin</th>\n",
       "      <td>3.35</td>\n",
       "      <td>3.54</td>\n",
       "      <td>3.55</td>\n",
       "    </tr>\n",
       "    <tr>\n",
       "      <th>Copper</th>\n",
       "      <td>172.0</td>\n",
       "      <td>63.0</td>\n",
       "      <td>131.0</td>\n",
       "    </tr>\n",
       "    <tr>\n",
       "      <th>Alk_Phos</th>\n",
       "      <td>1601.0</td>\n",
       "      <td>1440.0</td>\n",
       "      <td>1029.0</td>\n",
       "    </tr>\n",
       "    <tr>\n",
       "      <th>SGOT</th>\n",
       "      <td>179.8</td>\n",
       "      <td>134.85</td>\n",
       "      <td>119.35</td>\n",
       "    </tr>\n",
       "    <tr>\n",
       "      <th>Tryglicerides</th>\n",
       "      <td>63.0</td>\n",
       "      <td>88.0</td>\n",
       "      <td>50.0</td>\n",
       "    </tr>\n",
       "    <tr>\n",
       "      <th>Platelets</th>\n",
       "      <td>394.0</td>\n",
       "      <td>361.0</td>\n",
       "      <td>199.0</td>\n",
       "    </tr>\n",
       "    <tr>\n",
       "      <th>Prothrombin</th>\n",
       "      <td>9.7</td>\n",
       "      <td>11.0</td>\n",
       "      <td>11.7</td>\n",
       "    </tr>\n",
       "    <tr>\n",
       "      <th>Stage</th>\n",
       "      <td>3.0</td>\n",
       "      <td>3.0</td>\n",
       "      <td>4.0</td>\n",
       "    </tr>\n",
       "    <tr>\n",
       "      <th>Status</th>\n",
       "      <td>D</td>\n",
       "      <td>C</td>\n",
       "      <td>D</td>\n",
       "    </tr>\n",
       "  </tbody>\n",
       "</table>\n",
       "</div>"
      ],
      "text/plain": [
       "                             0        1        2\n",
       "id                           0        1        2\n",
       "N_Days                     999     2574     3428\n",
       "Drug           D-penicillamine  Placebo  Placebo\n",
       "Age                      21532    19237    13727\n",
       "Sex                          M        F        F\n",
       "Ascites                      N        N        N\n",
       "Hepatomegaly                 N        N        Y\n",
       "Spiders                      N        N        Y\n",
       "Edema                        N        N        Y\n",
       "Bilirubin                  2.3      0.9      3.3\n",
       "Cholesterol              316.0    364.0    299.0\n",
       "Albumin                   3.35     3.54     3.55\n",
       "Copper                   172.0     63.0    131.0\n",
       "Alk_Phos                1601.0   1440.0   1029.0\n",
       "SGOT                     179.8   134.85   119.35\n",
       "Tryglicerides             63.0     88.0     50.0\n",
       "Platelets                394.0    361.0    199.0\n",
       "Prothrombin                9.7     11.0     11.7\n",
       "Stage                      3.0      3.0      4.0\n",
       "Status                       D        C        D"
      ]
     },
     "execution_count": 17,
     "metadata": {},
     "output_type": "execute_result"
    }
   ],
   "source": [
    "train.head(3).T"
   ]
  },
  {
   "cell_type": "code",
   "execution_count": 9,
   "metadata": {},
   "outputs": [
    {
     "data": {
      "text/html": [
       "<div>\n",
       "<style scoped>\n",
       "    .dataframe tbody tr th:only-of-type {\n",
       "        vertical-align: middle;\n",
       "    }\n",
       "\n",
       "    .dataframe tbody tr th {\n",
       "        vertical-align: top;\n",
       "    }\n",
       "\n",
       "    .dataframe thead th {\n",
       "        text-align: right;\n",
       "    }\n",
       "</style>\n",
       "<table border=\"1\" class=\"dataframe\">\n",
       "  <thead>\n",
       "    <tr style=\"text-align: right;\">\n",
       "      <th></th>\n",
       "      <th>id</th>\n",
       "      <th>Status_C</th>\n",
       "      <th>Status_CL</th>\n",
       "      <th>Status_D</th>\n",
       "    </tr>\n",
       "  </thead>\n",
       "  <tbody>\n",
       "    <tr>\n",
       "      <th>0</th>\n",
       "      <td>7905</td>\n",
       "      <td>0.628084</td>\n",
       "      <td>0.034788</td>\n",
       "      <td>0.337128</td>\n",
       "    </tr>\n",
       "    <tr>\n",
       "      <th>1</th>\n",
       "      <td>7906</td>\n",
       "      <td>0.628084</td>\n",
       "      <td>0.034788</td>\n",
       "      <td>0.337128</td>\n",
       "    </tr>\n",
       "    <tr>\n",
       "      <th>2</th>\n",
       "      <td>7907</td>\n",
       "      <td>0.628084</td>\n",
       "      <td>0.034788</td>\n",
       "      <td>0.337128</td>\n",
       "    </tr>\n",
       "  </tbody>\n",
       "</table>\n",
       "</div>"
      ],
      "text/plain": [
       "     id  Status_C  Status_CL  Status_D\n",
       "0  7905  0.628084   0.034788  0.337128\n",
       "1  7906  0.628084   0.034788  0.337128\n",
       "2  7907  0.628084   0.034788  0.337128"
      ]
     },
     "execution_count": 9,
     "metadata": {},
     "output_type": "execute_result"
    }
   ],
   "source": [
    "sample_submission.head(3)"
   ]
  },
  {
   "cell_type": "code",
   "execution_count": 10,
   "metadata": {},
   "outputs": [
    {
     "data": {
      "text/plain": [
       "7905"
      ]
     },
     "execution_count": 10,
     "metadata": {},
     "output_type": "execute_result"
    }
   ],
   "source": [
    "sample_submission[\"id\"].min()"
   ]
  },
  {
   "cell_type": "code",
   "execution_count": 11,
   "metadata": {},
   "outputs": [
    {
     "data": {
      "text/plain": [
       "Status_C     0.628084\n",
       "Status_CL    0.034788\n",
       "Status_D     0.337128\n",
       "dtype: float64"
      ]
     },
     "execution_count": 11,
     "metadata": {},
     "output_type": "execute_result"
    }
   ],
   "source": [
    "sample_submission[[\"Status_C\",\"Status_CL\",\"Status_D\"]].mean()"
   ]
  },
  {
   "cell_type": "code",
   "execution_count": 12,
   "metadata": {},
   "outputs": [
    {
     "data": {
      "text/plain": [
       "(Status_C     0.628084\n",
       " Status_CL    0.034788\n",
       " Status_D     0.337128\n",
       " dtype: float64,\n",
       " Status_C     0.628084\n",
       " Status_CL    0.034788\n",
       " Status_D     0.337128\n",
       " dtype: float64)"
      ]
     },
     "execution_count": 12,
     "metadata": {},
     "output_type": "execute_result"
    }
   ],
   "source": [
    "sample_submission[[\"Status_C\",\"Status_CL\",\"Status_D\"]].min(), sample_submission[[\"Status_C\",\"Status_CL\",\"Status_D\"]].max()"
   ]
  },
  {
   "cell_type": "code",
   "execution_count": 18,
   "metadata": {},
   "outputs": [
    {
     "data": {
      "text/plain": [
       "Status\n",
       "C     4965\n",
       "D     2665\n",
       "CL     275\n",
       "Name: count, dtype: int64"
      ]
     },
     "execution_count": 18,
     "metadata": {},
     "output_type": "execute_result"
    }
   ],
   "source": [
    "train[\"Status\"].value_counts()"
   ]
  },
  {
   "cell_type": "markdown",
   "metadata": {},
   "source": [
    "# One hot encoder in output"
   ]
  },
  {
   "cell_type": "code",
   "execution_count": 21,
   "metadata": {},
   "outputs": [],
   "source": [
    "cat_encoder = OneHotEncoder(sparse_output=False)\n"
   ]
  },
  {
   "cell_type": "code",
   "execution_count": 23,
   "metadata": {},
   "outputs": [
    {
     "data": {
      "text/plain": [
       "array([[0., 0., 1.],\n",
       "       [1., 0., 0.],\n",
       "       [0., 0., 1.],\n",
       "       ...,\n",
       "       [0., 0., 1.],\n",
       "       [0., 0., 1.],\n",
       "       [1., 0., 0.]])"
      ]
     },
     "execution_count": 23,
     "metadata": {},
     "output_type": "execute_result"
    }
   ],
   "source": [
    "cat_1hot = cat_encoder.fit_transform(train[[\"Status\"]])\n",
    "cat_1hot"
   ]
  },
  {
   "cell_type": "code",
   "execution_count": 25,
   "metadata": {},
   "outputs": [
    {
     "data": {
      "text/plain": [
       "array(['Status_C', 'Status_CL', 'Status_D'], dtype=object)"
      ]
     },
     "execution_count": 25,
     "metadata": {},
     "output_type": "execute_result"
    }
   ],
   "source": [
    "cat_encoder.get_feature_names_out()"
   ]
  },
  {
   "cell_type": "code",
   "execution_count": 26,
   "metadata": {},
   "outputs": [],
   "source": [
    "df_output = pd.DataFrame(cat_encoder.transform(train[[\"Status\"]]),\n",
    "                         columns=cat_encoder.get_feature_names_out(),\n",
    "                         index=train[[\"Status\"]].index)"
   ]
  },
  {
   "cell_type": "code",
   "execution_count": 27,
   "metadata": {},
   "outputs": [
    {
     "data": {
      "text/plain": [
       "(   Status_C  Status_CL  Status_D\n",
       " 0       0.0        0.0       1.0\n",
       " 1       1.0        0.0       0.0\n",
       " 2       0.0        0.0       1.0,\n",
       "       Status_C  Status_CL  Status_D\n",
       " 7902       0.0        0.0       1.0\n",
       " 7903       0.0        0.0       1.0\n",
       " 7904       1.0        0.0       0.0,\n",
       "   Status\n",
       " 0      D\n",
       " 1      C\n",
       " 2      D,\n",
       "      Status\n",
       " 7902      D\n",
       " 7903      D\n",
       " 7904      C)"
      ]
     },
     "execution_count": 27,
     "metadata": {},
     "output_type": "execute_result"
    }
   ],
   "source": [
    "df_output.head(3), df_output.tail(3),train[[\"Status\"]].head(3),train[[\"Status\"]].tail(3)"
   ]
  },
  {
   "cell_type": "code",
   "execution_count": 32,
   "metadata": {},
   "outputs": [],
   "source": [
    "train[cat_encoder.get_feature_names_out()] = cat_1hot"
   ]
  },
  {
   "cell_type": "code",
   "execution_count": 33,
   "metadata": {},
   "outputs": [
    {
     "data": {
      "text/html": [
       "<div>\n",
       "<style scoped>\n",
       "    .dataframe tbody tr th:only-of-type {\n",
       "        vertical-align: middle;\n",
       "    }\n",
       "\n",
       "    .dataframe tbody tr th {\n",
       "        vertical-align: top;\n",
       "    }\n",
       "\n",
       "    .dataframe thead th {\n",
       "        text-align: right;\n",
       "    }\n",
       "</style>\n",
       "<table border=\"1\" class=\"dataframe\">\n",
       "  <thead>\n",
       "    <tr style=\"text-align: right;\">\n",
       "      <th></th>\n",
       "      <th>0</th>\n",
       "      <th>1</th>\n",
       "      <th>2</th>\n",
       "    </tr>\n",
       "  </thead>\n",
       "  <tbody>\n",
       "    <tr>\n",
       "      <th>id</th>\n",
       "      <td>0</td>\n",
       "      <td>1</td>\n",
       "      <td>2</td>\n",
       "    </tr>\n",
       "    <tr>\n",
       "      <th>N_Days</th>\n",
       "      <td>999</td>\n",
       "      <td>2574</td>\n",
       "      <td>3428</td>\n",
       "    </tr>\n",
       "    <tr>\n",
       "      <th>Drug</th>\n",
       "      <td>D-penicillamine</td>\n",
       "      <td>Placebo</td>\n",
       "      <td>Placebo</td>\n",
       "    </tr>\n",
       "    <tr>\n",
       "      <th>Age</th>\n",
       "      <td>21532</td>\n",
       "      <td>19237</td>\n",
       "      <td>13727</td>\n",
       "    </tr>\n",
       "    <tr>\n",
       "      <th>Sex</th>\n",
       "      <td>M</td>\n",
       "      <td>F</td>\n",
       "      <td>F</td>\n",
       "    </tr>\n",
       "    <tr>\n",
       "      <th>Ascites</th>\n",
       "      <td>N</td>\n",
       "      <td>N</td>\n",
       "      <td>N</td>\n",
       "    </tr>\n",
       "    <tr>\n",
       "      <th>Hepatomegaly</th>\n",
       "      <td>N</td>\n",
       "      <td>N</td>\n",
       "      <td>Y</td>\n",
       "    </tr>\n",
       "    <tr>\n",
       "      <th>Spiders</th>\n",
       "      <td>N</td>\n",
       "      <td>N</td>\n",
       "      <td>Y</td>\n",
       "    </tr>\n",
       "    <tr>\n",
       "      <th>Edema</th>\n",
       "      <td>N</td>\n",
       "      <td>N</td>\n",
       "      <td>Y</td>\n",
       "    </tr>\n",
       "    <tr>\n",
       "      <th>Bilirubin</th>\n",
       "      <td>2.3</td>\n",
       "      <td>0.9</td>\n",
       "      <td>3.3</td>\n",
       "    </tr>\n",
       "    <tr>\n",
       "      <th>Cholesterol</th>\n",
       "      <td>316.0</td>\n",
       "      <td>364.0</td>\n",
       "      <td>299.0</td>\n",
       "    </tr>\n",
       "    <tr>\n",
       "      <th>Albumin</th>\n",
       "      <td>3.35</td>\n",
       "      <td>3.54</td>\n",
       "      <td>3.55</td>\n",
       "    </tr>\n",
       "    <tr>\n",
       "      <th>Copper</th>\n",
       "      <td>172.0</td>\n",
       "      <td>63.0</td>\n",
       "      <td>131.0</td>\n",
       "    </tr>\n",
       "    <tr>\n",
       "      <th>Alk_Phos</th>\n",
       "      <td>1601.0</td>\n",
       "      <td>1440.0</td>\n",
       "      <td>1029.0</td>\n",
       "    </tr>\n",
       "    <tr>\n",
       "      <th>SGOT</th>\n",
       "      <td>179.8</td>\n",
       "      <td>134.85</td>\n",
       "      <td>119.35</td>\n",
       "    </tr>\n",
       "    <tr>\n",
       "      <th>Tryglicerides</th>\n",
       "      <td>63.0</td>\n",
       "      <td>88.0</td>\n",
       "      <td>50.0</td>\n",
       "    </tr>\n",
       "    <tr>\n",
       "      <th>Platelets</th>\n",
       "      <td>394.0</td>\n",
       "      <td>361.0</td>\n",
       "      <td>199.0</td>\n",
       "    </tr>\n",
       "    <tr>\n",
       "      <th>Prothrombin</th>\n",
       "      <td>9.7</td>\n",
       "      <td>11.0</td>\n",
       "      <td>11.7</td>\n",
       "    </tr>\n",
       "    <tr>\n",
       "      <th>Stage</th>\n",
       "      <td>3.0</td>\n",
       "      <td>3.0</td>\n",
       "      <td>4.0</td>\n",
       "    </tr>\n",
       "    <tr>\n",
       "      <th>Status</th>\n",
       "      <td>D</td>\n",
       "      <td>C</td>\n",
       "      <td>D</td>\n",
       "    </tr>\n",
       "    <tr>\n",
       "      <th>Status_C</th>\n",
       "      <td>0.0</td>\n",
       "      <td>1.0</td>\n",
       "      <td>0.0</td>\n",
       "    </tr>\n",
       "    <tr>\n",
       "      <th>Status_CL</th>\n",
       "      <td>0.0</td>\n",
       "      <td>0.0</td>\n",
       "      <td>0.0</td>\n",
       "    </tr>\n",
       "    <tr>\n",
       "      <th>Status_D</th>\n",
       "      <td>1.0</td>\n",
       "      <td>0.0</td>\n",
       "      <td>1.0</td>\n",
       "    </tr>\n",
       "  </tbody>\n",
       "</table>\n",
       "</div>"
      ],
      "text/plain": [
       "                             0        1        2\n",
       "id                           0        1        2\n",
       "N_Days                     999     2574     3428\n",
       "Drug           D-penicillamine  Placebo  Placebo\n",
       "Age                      21532    19237    13727\n",
       "Sex                          M        F        F\n",
       "Ascites                      N        N        N\n",
       "Hepatomegaly                 N        N        Y\n",
       "Spiders                      N        N        Y\n",
       "Edema                        N        N        Y\n",
       "Bilirubin                  2.3      0.9      3.3\n",
       "Cholesterol              316.0    364.0    299.0\n",
       "Albumin                   3.35     3.54     3.55\n",
       "Copper                   172.0     63.0    131.0\n",
       "Alk_Phos                1601.0   1440.0   1029.0\n",
       "SGOT                     179.8   134.85   119.35\n",
       "Tryglicerides             63.0     88.0     50.0\n",
       "Platelets                394.0    361.0    199.0\n",
       "Prothrombin                9.7     11.0     11.7\n",
       "Stage                      3.0      3.0      4.0\n",
       "Status                       D        C        D\n",
       "Status_C                   0.0      1.0      0.0\n",
       "Status_CL                  0.0      0.0      0.0\n",
       "Status_D                   1.0      0.0      1.0"
      ]
     },
     "execution_count": 33,
     "metadata": {},
     "output_type": "execute_result"
    }
   ],
   "source": [
    "train.head(3).T"
   ]
  },
  {
   "cell_type": "markdown",
   "metadata": {},
   "source": [
    "# Base line model"
   ]
  },
  {
   "cell_type": "code",
   "execution_count": 13,
   "metadata": {},
   "outputs": [
    {
     "data": {
      "text/html": [
       "<div>\n",
       "<style scoped>\n",
       "    .dataframe tbody tr th:only-of-type {\n",
       "        vertical-align: middle;\n",
       "    }\n",
       "\n",
       "    .dataframe tbody tr th {\n",
       "        vertical-align: top;\n",
       "    }\n",
       "\n",
       "    .dataframe thead th {\n",
       "        text-align: right;\n",
       "    }\n",
       "</style>\n",
       "<table border=\"1\" class=\"dataframe\">\n",
       "  <thead>\n",
       "    <tr style=\"text-align: right;\">\n",
       "      <th></th>\n",
       "      <th>id</th>\n",
       "      <th>Status_C</th>\n",
       "      <th>Status_CL</th>\n",
       "      <th>Status_D</th>\n",
       "    </tr>\n",
       "  </thead>\n",
       "  <tbody>\n",
       "    <tr>\n",
       "      <th>0</th>\n",
       "      <td>0</td>\n",
       "      <td>0.628084</td>\n",
       "      <td>0.034788</td>\n",
       "      <td>0.337128</td>\n",
       "    </tr>\n",
       "    <tr>\n",
       "      <th>1</th>\n",
       "      <td>1</td>\n",
       "      <td>0.628084</td>\n",
       "      <td>0.034788</td>\n",
       "      <td>0.337128</td>\n",
       "    </tr>\n",
       "    <tr>\n",
       "      <th>2</th>\n",
       "      <td>2</td>\n",
       "      <td>0.628084</td>\n",
       "      <td>0.034788</td>\n",
       "      <td>0.337128</td>\n",
       "    </tr>\n",
       "    <tr>\n",
       "      <th>3</th>\n",
       "      <td>3</td>\n",
       "      <td>0.628084</td>\n",
       "      <td>0.034788</td>\n",
       "      <td>0.337128</td>\n",
       "    </tr>\n",
       "    <tr>\n",
       "      <th>4</th>\n",
       "      <td>4</td>\n",
       "      <td>0.628084</td>\n",
       "      <td>0.034788</td>\n",
       "      <td>0.337128</td>\n",
       "    </tr>\n",
       "    <tr>\n",
       "      <th>...</th>\n",
       "      <td>...</td>\n",
       "      <td>...</td>\n",
       "      <td>...</td>\n",
       "      <td>...</td>\n",
       "    </tr>\n",
       "    <tr>\n",
       "      <th>7900</th>\n",
       "      <td>7900</td>\n",
       "      <td>0.628084</td>\n",
       "      <td>0.034788</td>\n",
       "      <td>0.337128</td>\n",
       "    </tr>\n",
       "    <tr>\n",
       "      <th>7901</th>\n",
       "      <td>7901</td>\n",
       "      <td>0.628084</td>\n",
       "      <td>0.034788</td>\n",
       "      <td>0.337128</td>\n",
       "    </tr>\n",
       "    <tr>\n",
       "      <th>7902</th>\n",
       "      <td>7902</td>\n",
       "      <td>0.628084</td>\n",
       "      <td>0.034788</td>\n",
       "      <td>0.337128</td>\n",
       "    </tr>\n",
       "    <tr>\n",
       "      <th>7903</th>\n",
       "      <td>7903</td>\n",
       "      <td>0.628084</td>\n",
       "      <td>0.034788</td>\n",
       "      <td>0.337128</td>\n",
       "    </tr>\n",
       "    <tr>\n",
       "      <th>7904</th>\n",
       "      <td>7904</td>\n",
       "      <td>0.628084</td>\n",
       "      <td>0.034788</td>\n",
       "      <td>0.337128</td>\n",
       "    </tr>\n",
       "  </tbody>\n",
       "</table>\n",
       "<p>7905 rows × 4 columns</p>\n",
       "</div>"
      ],
      "text/plain": [
       "        id  Status_C  Status_CL  Status_D\n",
       "0        0  0.628084   0.034788  0.337128\n",
       "1        1  0.628084   0.034788  0.337128\n",
       "2        2  0.628084   0.034788  0.337128\n",
       "3        3  0.628084   0.034788  0.337128\n",
       "4        4  0.628084   0.034788  0.337128\n",
       "...    ...       ...        ...       ...\n",
       "7900  7900  0.628084   0.034788  0.337128\n",
       "7901  7901  0.628084   0.034788  0.337128\n",
       "7902  7902  0.628084   0.034788  0.337128\n",
       "7903  7903  0.628084   0.034788  0.337128\n",
       "7904  7904  0.628084   0.034788  0.337128\n",
       "\n",
       "[7905 rows x 4 columns]"
      ]
     },
     "execution_count": 13,
     "metadata": {},
     "output_type": "execute_result"
    }
   ],
   "source": [
    "prediction = func.base_line(train)\n",
    "prediction"
   ]
  },
  {
   "cell_type": "code",
   "execution_count": 34,
   "metadata": {},
   "outputs": [
    {
     "data": {
      "text/html": [
       "<div>\n",
       "<style scoped>\n",
       "    .dataframe tbody tr th:only-of-type {\n",
       "        vertical-align: middle;\n",
       "    }\n",
       "\n",
       "    .dataframe tbody tr th {\n",
       "        vertical-align: top;\n",
       "    }\n",
       "\n",
       "    .dataframe thead th {\n",
       "        text-align: right;\n",
       "    }\n",
       "</style>\n",
       "<table border=\"1\" class=\"dataframe\">\n",
       "  <thead>\n",
       "    <tr style=\"text-align: right;\">\n",
       "      <th></th>\n",
       "      <th>Status_C</th>\n",
       "      <th>Status_CL</th>\n",
       "      <th>Status_D</th>\n",
       "    </tr>\n",
       "  </thead>\n",
       "  <tbody>\n",
       "    <tr>\n",
       "      <th>0</th>\n",
       "      <td>0.628084</td>\n",
       "      <td>0.034788</td>\n",
       "      <td>0.337128</td>\n",
       "    </tr>\n",
       "  </tbody>\n",
       "</table>\n",
       "</div>"
      ],
      "text/plain": [
       "   Status_C  Status_CL  Status_D\n",
       "0  0.628084   0.034788  0.337128"
      ]
     },
     "execution_count": 34,
     "metadata": {},
     "output_type": "execute_result"
    }
   ],
   "source": [
    "prediction[[\"Status_C\",\"Status_CL\",\"Status_D\"]].head(1)"
   ]
  },
  {
   "cell_type": "code",
   "execution_count": 35,
   "metadata": {},
   "outputs": [],
   "source": [
    "\n",
    "error = log_loss(train[[\"Status_C\",\"Status_CL\",\"Status_D\"]],prediction[[\"Status_C\",\"Status_CL\",\"Status_D\"]])"
   ]
  },
  {
   "cell_type": "code",
   "execution_count": 36,
   "metadata": {},
   "outputs": [
    {
     "data": {
      "text/plain": [
       "0.7755024047843813"
      ]
     },
     "execution_count": 36,
     "metadata": {},
     "output_type": "execute_result"
    }
   ],
   "source": [
    "error"
   ]
  },
  {
   "cell_type": "code",
   "execution_count": 37,
   "metadata": {},
   "outputs": [
    {
     "name": "stdout",
     "output_type": "stream",
     "text": [
      "{'Status_C': 0.628084, 'Status_CL': 0.034788, 'Status_D': 0.337128, 'id': 532}\n"
     ]
    }
   ],
   "source": [
    "url = 'http://localhost:9695/predict'\n",
    "customer = {\n",
    "    \"id\": 532\n",
    "}\n",
    "\n",
    "response = requests.post(url, json=customer).json()\n",
    "print(response)"
   ]
  },
  {
   "cell_type": "code",
   "execution_count": 38,
   "metadata": {},
   "outputs": [],
   "source": [
    "prediction = func.base_line(test)"
   ]
  },
  {
   "cell_type": "code",
   "execution_count": 39,
   "metadata": {},
   "outputs": [],
   "source": [
    "prediction.to_csv(\"../data/base-line-model-answer.csv\",index=False)"
   ]
  },
  {
   "cell_type": "code",
   "execution_count": 40,
   "metadata": {},
   "outputs": [],
   "source": [
    "# kaggle competitions submit -c playground-series-s3e25 -f submission.csv -m \"Message\""
   ]
  },
  {
   "cell_type": "markdown",
   "metadata": {},
   "source": [
    "# 2nd Model"
   ]
  },
  {
   "cell_type": "markdown",
   "metadata": {},
   "source": [
    "# Exploring data v2"
   ]
  },
  {
   "cell_type": "code",
   "execution_count": 45,
   "metadata": {},
   "outputs": [
    {
     "data": {
      "text/html": [
       "<div>\n",
       "<style scoped>\n",
       "    .dataframe tbody tr th:only-of-type {\n",
       "        vertical-align: middle;\n",
       "    }\n",
       "\n",
       "    .dataframe tbody tr th {\n",
       "        vertical-align: top;\n",
       "    }\n",
       "\n",
       "    .dataframe thead th {\n",
       "        text-align: right;\n",
       "    }\n",
       "</style>\n",
       "<table border=\"1\" class=\"dataframe\">\n",
       "  <thead>\n",
       "    <tr style=\"text-align: right;\">\n",
       "      <th></th>\n",
       "      <th>count</th>\n",
       "      <th>unique</th>\n",
       "      <th>top</th>\n",
       "      <th>freq</th>\n",
       "      <th>mean</th>\n",
       "      <th>std</th>\n",
       "      <th>min</th>\n",
       "      <th>25%</th>\n",
       "      <th>50%</th>\n",
       "      <th>75%</th>\n",
       "      <th>max</th>\n",
       "    </tr>\n",
       "  </thead>\n",
       "  <tbody>\n",
       "    <tr>\n",
       "      <th>id</th>\n",
       "      <td>7905.0</td>\n",
       "      <td>NaN</td>\n",
       "      <td>NaN</td>\n",
       "      <td>NaN</td>\n",
       "      <td>3952.0</td>\n",
       "      <td>2282.121272</td>\n",
       "      <td>0.0</td>\n",
       "      <td>1976.0</td>\n",
       "      <td>3952.0</td>\n",
       "      <td>5928.0</td>\n",
       "      <td>7904.0</td>\n",
       "    </tr>\n",
       "    <tr>\n",
       "      <th>N_Days</th>\n",
       "      <td>7905.0</td>\n",
       "      <td>NaN</td>\n",
       "      <td>NaN</td>\n",
       "      <td>NaN</td>\n",
       "      <td>2030.173308</td>\n",
       "      <td>1094.233744</td>\n",
       "      <td>41.0</td>\n",
       "      <td>1230.0</td>\n",
       "      <td>1831.0</td>\n",
       "      <td>2689.0</td>\n",
       "      <td>4795.0</td>\n",
       "    </tr>\n",
       "    <tr>\n",
       "      <th>Drug</th>\n",
       "      <td>7905</td>\n",
       "      <td>2</td>\n",
       "      <td>Placebo</td>\n",
       "      <td>4010</td>\n",
       "      <td>NaN</td>\n",
       "      <td>NaN</td>\n",
       "      <td>NaN</td>\n",
       "      <td>NaN</td>\n",
       "      <td>NaN</td>\n",
       "      <td>NaN</td>\n",
       "      <td>NaN</td>\n",
       "    </tr>\n",
       "    <tr>\n",
       "      <th>Age</th>\n",
       "      <td>7905.0</td>\n",
       "      <td>NaN</td>\n",
       "      <td>NaN</td>\n",
       "      <td>NaN</td>\n",
       "      <td>18373.14649</td>\n",
       "      <td>3679.958739</td>\n",
       "      <td>9598.0</td>\n",
       "      <td>15574.0</td>\n",
       "      <td>18713.0</td>\n",
       "      <td>20684.0</td>\n",
       "      <td>28650.0</td>\n",
       "    </tr>\n",
       "    <tr>\n",
       "      <th>Sex</th>\n",
       "      <td>7905</td>\n",
       "      <td>2</td>\n",
       "      <td>F</td>\n",
       "      <td>7336</td>\n",
       "      <td>NaN</td>\n",
       "      <td>NaN</td>\n",
       "      <td>NaN</td>\n",
       "      <td>NaN</td>\n",
       "      <td>NaN</td>\n",
       "      <td>NaN</td>\n",
       "      <td>NaN</td>\n",
       "    </tr>\n",
       "    <tr>\n",
       "      <th>Ascites</th>\n",
       "      <td>7905</td>\n",
       "      <td>2</td>\n",
       "      <td>N</td>\n",
       "      <td>7525</td>\n",
       "      <td>NaN</td>\n",
       "      <td>NaN</td>\n",
       "      <td>NaN</td>\n",
       "      <td>NaN</td>\n",
       "      <td>NaN</td>\n",
       "      <td>NaN</td>\n",
       "      <td>NaN</td>\n",
       "    </tr>\n",
       "    <tr>\n",
       "      <th>Hepatomegaly</th>\n",
       "      <td>7905</td>\n",
       "      <td>2</td>\n",
       "      <td>Y</td>\n",
       "      <td>4042</td>\n",
       "      <td>NaN</td>\n",
       "      <td>NaN</td>\n",
       "      <td>NaN</td>\n",
       "      <td>NaN</td>\n",
       "      <td>NaN</td>\n",
       "      <td>NaN</td>\n",
       "      <td>NaN</td>\n",
       "    </tr>\n",
       "    <tr>\n",
       "      <th>Spiders</th>\n",
       "      <td>7905</td>\n",
       "      <td>2</td>\n",
       "      <td>N</td>\n",
       "      <td>5966</td>\n",
       "      <td>NaN</td>\n",
       "      <td>NaN</td>\n",
       "      <td>NaN</td>\n",
       "      <td>NaN</td>\n",
       "      <td>NaN</td>\n",
       "      <td>NaN</td>\n",
       "      <td>NaN</td>\n",
       "    </tr>\n",
       "    <tr>\n",
       "      <th>Edema</th>\n",
       "      <td>7905</td>\n",
       "      <td>3</td>\n",
       "      <td>N</td>\n",
       "      <td>7161</td>\n",
       "      <td>NaN</td>\n",
       "      <td>NaN</td>\n",
       "      <td>NaN</td>\n",
       "      <td>NaN</td>\n",
       "      <td>NaN</td>\n",
       "      <td>NaN</td>\n",
       "      <td>NaN</td>\n",
       "    </tr>\n",
       "    <tr>\n",
       "      <th>Bilirubin</th>\n",
       "      <td>7905.0</td>\n",
       "      <td>NaN</td>\n",
       "      <td>NaN</td>\n",
       "      <td>NaN</td>\n",
       "      <td>2.594485</td>\n",
       "      <td>3.81296</td>\n",
       "      <td>0.3</td>\n",
       "      <td>0.7</td>\n",
       "      <td>1.1</td>\n",
       "      <td>3.0</td>\n",
       "      <td>28.0</td>\n",
       "    </tr>\n",
       "    <tr>\n",
       "      <th>Cholesterol</th>\n",
       "      <td>7905.0</td>\n",
       "      <td>NaN</td>\n",
       "      <td>NaN</td>\n",
       "      <td>NaN</td>\n",
       "      <td>350.561923</td>\n",
       "      <td>195.379344</td>\n",
       "      <td>120.0</td>\n",
       "      <td>248.0</td>\n",
       "      <td>298.0</td>\n",
       "      <td>390.0</td>\n",
       "      <td>1775.0</td>\n",
       "    </tr>\n",
       "    <tr>\n",
       "      <th>Albumin</th>\n",
       "      <td>7905.0</td>\n",
       "      <td>NaN</td>\n",
       "      <td>NaN</td>\n",
       "      <td>NaN</td>\n",
       "      <td>3.548323</td>\n",
       "      <td>0.346171</td>\n",
       "      <td>1.96</td>\n",
       "      <td>3.35</td>\n",
       "      <td>3.58</td>\n",
       "      <td>3.77</td>\n",
       "      <td>4.64</td>\n",
       "    </tr>\n",
       "    <tr>\n",
       "      <th>Copper</th>\n",
       "      <td>7905.0</td>\n",
       "      <td>NaN</td>\n",
       "      <td>NaN</td>\n",
       "      <td>NaN</td>\n",
       "      <td>83.902846</td>\n",
       "      <td>75.899266</td>\n",
       "      <td>4.0</td>\n",
       "      <td>39.0</td>\n",
       "      <td>63.0</td>\n",
       "      <td>102.0</td>\n",
       "      <td>588.0</td>\n",
       "    </tr>\n",
       "    <tr>\n",
       "      <th>Alk_Phos</th>\n",
       "      <td>7905.0</td>\n",
       "      <td>NaN</td>\n",
       "      <td>NaN</td>\n",
       "      <td>NaN</td>\n",
       "      <td>1816.74525</td>\n",
       "      <td>1903.750657</td>\n",
       "      <td>289.0</td>\n",
       "      <td>834.0</td>\n",
       "      <td>1181.0</td>\n",
       "      <td>1857.0</td>\n",
       "      <td>13862.4</td>\n",
       "    </tr>\n",
       "    <tr>\n",
       "      <th>SGOT</th>\n",
       "      <td>7905.0</td>\n",
       "      <td>NaN</td>\n",
       "      <td>NaN</td>\n",
       "      <td>NaN</td>\n",
       "      <td>114.604602</td>\n",
       "      <td>48.790945</td>\n",
       "      <td>26.35</td>\n",
       "      <td>75.95</td>\n",
       "      <td>108.5</td>\n",
       "      <td>137.95</td>\n",
       "      <td>457.25</td>\n",
       "    </tr>\n",
       "    <tr>\n",
       "      <th>Tryglicerides</th>\n",
       "      <td>7905.0</td>\n",
       "      <td>NaN</td>\n",
       "      <td>NaN</td>\n",
       "      <td>NaN</td>\n",
       "      <td>115.340164</td>\n",
       "      <td>52.530402</td>\n",
       "      <td>33.0</td>\n",
       "      <td>84.0</td>\n",
       "      <td>104.0</td>\n",
       "      <td>139.0</td>\n",
       "      <td>598.0</td>\n",
       "    </tr>\n",
       "    <tr>\n",
       "      <th>Platelets</th>\n",
       "      <td>7905.0</td>\n",
       "      <td>NaN</td>\n",
       "      <td>NaN</td>\n",
       "      <td>NaN</td>\n",
       "      <td>265.228969</td>\n",
       "      <td>87.465579</td>\n",
       "      <td>62.0</td>\n",
       "      <td>211.0</td>\n",
       "      <td>265.0</td>\n",
       "      <td>316.0</td>\n",
       "      <td>563.0</td>\n",
       "    </tr>\n",
       "    <tr>\n",
       "      <th>Prothrombin</th>\n",
       "      <td>7905.0</td>\n",
       "      <td>NaN</td>\n",
       "      <td>NaN</td>\n",
       "      <td>NaN</td>\n",
       "      <td>10.629462</td>\n",
       "      <td>0.781735</td>\n",
       "      <td>9.0</td>\n",
       "      <td>10.0</td>\n",
       "      <td>10.6</td>\n",
       "      <td>11.0</td>\n",
       "      <td>18.0</td>\n",
       "    </tr>\n",
       "    <tr>\n",
       "      <th>Stage</th>\n",
       "      <td>7905.0</td>\n",
       "      <td>NaN</td>\n",
       "      <td>NaN</td>\n",
       "      <td>NaN</td>\n",
       "      <td>3.032511</td>\n",
       "      <td>0.866511</td>\n",
       "      <td>1.0</td>\n",
       "      <td>2.0</td>\n",
       "      <td>3.0</td>\n",
       "      <td>4.0</td>\n",
       "      <td>4.0</td>\n",
       "    </tr>\n",
       "    <tr>\n",
       "      <th>Status</th>\n",
       "      <td>7905</td>\n",
       "      <td>3</td>\n",
       "      <td>C</td>\n",
       "      <td>4965</td>\n",
       "      <td>NaN</td>\n",
       "      <td>NaN</td>\n",
       "      <td>NaN</td>\n",
       "      <td>NaN</td>\n",
       "      <td>NaN</td>\n",
       "      <td>NaN</td>\n",
       "      <td>NaN</td>\n",
       "    </tr>\n",
       "    <tr>\n",
       "      <th>Status_C</th>\n",
       "      <td>7905.0</td>\n",
       "      <td>NaN</td>\n",
       "      <td>NaN</td>\n",
       "      <td>NaN</td>\n",
       "      <td>0.628083</td>\n",
       "      <td>0.483347</td>\n",
       "      <td>0.0</td>\n",
       "      <td>0.0</td>\n",
       "      <td>1.0</td>\n",
       "      <td>1.0</td>\n",
       "      <td>1.0</td>\n",
       "    </tr>\n",
       "    <tr>\n",
       "      <th>Status_CL</th>\n",
       "      <td>7905.0</td>\n",
       "      <td>NaN</td>\n",
       "      <td>NaN</td>\n",
       "      <td>NaN</td>\n",
       "      <td>0.034788</td>\n",
       "      <td>0.183254</td>\n",
       "      <td>0.0</td>\n",
       "      <td>0.0</td>\n",
       "      <td>0.0</td>\n",
       "      <td>0.0</td>\n",
       "      <td>1.0</td>\n",
       "    </tr>\n",
       "    <tr>\n",
       "      <th>Status_D</th>\n",
       "      <td>7905.0</td>\n",
       "      <td>NaN</td>\n",
       "      <td>NaN</td>\n",
       "      <td>NaN</td>\n",
       "      <td>0.337128</td>\n",
       "      <td>0.472759</td>\n",
       "      <td>0.0</td>\n",
       "      <td>0.0</td>\n",
       "      <td>0.0</td>\n",
       "      <td>1.0</td>\n",
       "      <td>1.0</td>\n",
       "    </tr>\n",
       "  </tbody>\n",
       "</table>\n",
       "</div>"
      ],
      "text/plain": [
       "                count unique      top  freq         mean          std     min  \\\n",
       "id             7905.0    NaN      NaN   NaN       3952.0  2282.121272     0.0   \n",
       "N_Days         7905.0    NaN      NaN   NaN  2030.173308  1094.233744    41.0   \n",
       "Drug             7905      2  Placebo  4010          NaN          NaN     NaN   \n",
       "Age            7905.0    NaN      NaN   NaN  18373.14649  3679.958739  9598.0   \n",
       "Sex              7905      2        F  7336          NaN          NaN     NaN   \n",
       "Ascites          7905      2        N  7525          NaN          NaN     NaN   \n",
       "Hepatomegaly     7905      2        Y  4042          NaN          NaN     NaN   \n",
       "Spiders          7905      2        N  5966          NaN          NaN     NaN   \n",
       "Edema            7905      3        N  7161          NaN          NaN     NaN   \n",
       "Bilirubin      7905.0    NaN      NaN   NaN     2.594485      3.81296     0.3   \n",
       "Cholesterol    7905.0    NaN      NaN   NaN   350.561923   195.379344   120.0   \n",
       "Albumin        7905.0    NaN      NaN   NaN     3.548323     0.346171    1.96   \n",
       "Copper         7905.0    NaN      NaN   NaN    83.902846    75.899266     4.0   \n",
       "Alk_Phos       7905.0    NaN      NaN   NaN   1816.74525  1903.750657   289.0   \n",
       "SGOT           7905.0    NaN      NaN   NaN   114.604602    48.790945   26.35   \n",
       "Tryglicerides  7905.0    NaN      NaN   NaN   115.340164    52.530402    33.0   \n",
       "Platelets      7905.0    NaN      NaN   NaN   265.228969    87.465579    62.0   \n",
       "Prothrombin    7905.0    NaN      NaN   NaN    10.629462     0.781735     9.0   \n",
       "Stage          7905.0    NaN      NaN   NaN     3.032511     0.866511     1.0   \n",
       "Status           7905      3        C  4965          NaN          NaN     NaN   \n",
       "Status_C       7905.0    NaN      NaN   NaN     0.628083     0.483347     0.0   \n",
       "Status_CL      7905.0    NaN      NaN   NaN     0.034788     0.183254     0.0   \n",
       "Status_D       7905.0    NaN      NaN   NaN     0.337128     0.472759     0.0   \n",
       "\n",
       "                   25%      50%      75%      max  \n",
       "id              1976.0   3952.0   5928.0   7904.0  \n",
       "N_Days          1230.0   1831.0   2689.0   4795.0  \n",
       "Drug               NaN      NaN      NaN      NaN  \n",
       "Age            15574.0  18713.0  20684.0  28650.0  \n",
       "Sex                NaN      NaN      NaN      NaN  \n",
       "Ascites            NaN      NaN      NaN      NaN  \n",
       "Hepatomegaly       NaN      NaN      NaN      NaN  \n",
       "Spiders            NaN      NaN      NaN      NaN  \n",
       "Edema              NaN      NaN      NaN      NaN  \n",
       "Bilirubin          0.7      1.1      3.0     28.0  \n",
       "Cholesterol      248.0    298.0    390.0   1775.0  \n",
       "Albumin           3.35     3.58     3.77     4.64  \n",
       "Copper            39.0     63.0    102.0    588.0  \n",
       "Alk_Phos         834.0   1181.0   1857.0  13862.4  \n",
       "SGOT             75.95    108.5   137.95   457.25  \n",
       "Tryglicerides     84.0    104.0    139.0    598.0  \n",
       "Platelets        211.0    265.0    316.0    563.0  \n",
       "Prothrombin       10.0     10.6     11.0     18.0  \n",
       "Stage              2.0      3.0      4.0      4.0  \n",
       "Status             NaN      NaN      NaN      NaN  \n",
       "Status_C           0.0      1.0      1.0      1.0  \n",
       "Status_CL          0.0      0.0      0.0      1.0  \n",
       "Status_D           0.0      0.0      1.0      1.0  "
      ]
     },
     "execution_count": 45,
     "metadata": {},
     "output_type": "execute_result"
    }
   ],
   "source": [
    "train.describe(include=\"all\").T"
   ]
  },
  {
   "cell_type": "code",
   "execution_count": 58,
   "metadata": {},
   "outputs": [],
   "source": [
    "categorical_variables = [\"Drug\", \"Sex\", \"Ascites\", \"Hepatomegaly\", \"Spiders\", \"Edema\"]"
   ]
  },
  {
   "cell_type": "code",
   "execution_count": 64,
   "metadata": {},
   "outputs": [
    {
     "data": {
      "text/plain": [
       "(Status\n",
       " C     4965\n",
       " D     2665\n",
       " CL     275\n",
       " Name: count, dtype: int64,\n",
       " Status\n",
       " C     0.628083\n",
       " D     0.337128\n",
       " CL    0.034788\n",
       " Name: count, dtype: float64)"
      ]
     },
     "execution_count": 64,
     "metadata": {},
     "output_type": "execute_result"
    }
   ],
   "source": [
    "train[\"Status\"].value_counts(),train[\"Status\"].value_counts() / train.shape[0]"
   ]
  },
  {
   "cell_type": "code",
   "execution_count": 55,
   "metadata": {},
   "outputs": [
    {
     "data": {
      "image/png": "[encoded data removed]",
      "text/plain": [
       "<Figure size 1200x1200 with 16 Axes>"
      ]
     },
     "metadata": {},
     "output_type": "display_data"
    }
   ],
   "source": [
    "train.hist(bins=50, figsize=(12, 12))\n",
    "plt.show()"
   ]
  },
  {
   "cell_type": "code",
   "execution_count": 83,
   "metadata": {},
   "outputs": [],
   "source": [
    "proportion = train.groupby(\"Status\",as_index=False)[\"id\"].count()"
   ]
  },
  {
   "cell_type": "code",
   "execution_count": 84,
   "metadata": {},
   "outputs": [],
   "source": [
    "proportion.rename({\"id\":\"ori_%\"},axis=1,inplace=True)"
   ]
  },
  {
   "cell_type": "code",
   "execution_count": 85,
   "metadata": {},
   "outputs": [],
   "source": [
    "proportion[\"ori_%\"] = proportion[\"ori_%\"]/train.shape[0]"
   ]
  },
  {
   "cell_type": "code",
   "execution_count": 86,
   "metadata": {},
   "outputs": [
    {
     "data": {
      "text/html": [
       "<div>\n",
       "<style scoped>\n",
       "    .dataframe tbody tr th:only-of-type {\n",
       "        vertical-align: middle;\n",
       "    }\n",
       "\n",
       "    .dataframe tbody tr th {\n",
       "        vertical-align: top;\n",
       "    }\n",
       "\n",
       "    .dataframe thead th {\n",
       "        text-align: right;\n",
       "    }\n",
       "</style>\n",
       "<table border=\"1\" class=\"dataframe\">\n",
       "  <thead>\n",
       "    <tr style=\"text-align: right;\">\n",
       "      <th></th>\n",
       "      <th>Status</th>\n",
       "      <th>ori_%</th>\n",
       "    </tr>\n",
       "  </thead>\n",
       "  <tbody>\n",
       "    <tr>\n",
       "      <th>0</th>\n",
       "      <td>C</td>\n",
       "      <td>0.628083</td>\n",
       "    </tr>\n",
       "    <tr>\n",
       "      <th>1</th>\n",
       "      <td>CL</td>\n",
       "      <td>0.034788</td>\n",
       "    </tr>\n",
       "    <tr>\n",
       "      <th>2</th>\n",
       "      <td>D</td>\n",
       "      <td>0.337128</td>\n",
       "    </tr>\n",
       "  </tbody>\n",
       "</table>\n",
       "</div>"
      ],
      "text/plain": [
       "  Status     ori_%\n",
       "0      C  0.628083\n",
       "1     CL  0.034788\n",
       "2      D  0.337128"
      ]
     },
     "execution_count": 86,
     "metadata": {},
     "output_type": "execute_result"
    }
   ],
   "source": [
    "proportion"
   ]
  },
  {
   "cell_type": "code",
   "execution_count": 87,
   "metadata": {},
   "outputs": [
    {
     "data": {
      "text/html": [
       "<div>\n",
       "<style scoped>\n",
       "    .dataframe tbody tr th:only-of-type {\n",
       "        vertical-align: middle;\n",
       "    }\n",
       "\n",
       "    .dataframe tbody tr th {\n",
       "        vertical-align: top;\n",
       "    }\n",
       "\n",
       "    .dataframe thead th {\n",
       "        text-align: right;\n",
       "    }\n",
       "</style>\n",
       "<table border=\"1\" class=\"dataframe\">\n",
       "  <thead>\n",
       "    <tr style=\"text-align: right;\">\n",
       "      <th></th>\n",
       "      <th>Edema</th>\n",
       "      <th>Status</th>\n",
       "      <th>%</th>\n",
       "      <th>count</th>\n",
       "      <th>ori_%</th>\n",
       "    </tr>\n",
       "  </thead>\n",
       "  <tbody>\n",
       "    <tr>\n",
       "      <th>0</th>\n",
       "      <td>N</td>\n",
       "      <td>C</td>\n",
       "      <td>0.676861</td>\n",
       "      <td>7161</td>\n",
       "      <td>0.628083</td>\n",
       "    </tr>\n",
       "    <tr>\n",
       "      <th>1</th>\n",
       "      <td>N</td>\n",
       "      <td>CL</td>\n",
       "      <td>0.035889</td>\n",
       "      <td>7161</td>\n",
       "      <td>0.034788</td>\n",
       "    </tr>\n",
       "    <tr>\n",
       "      <th>2</th>\n",
       "      <td>N</td>\n",
       "      <td>D</td>\n",
       "      <td>0.287250</td>\n",
       "      <td>7161</td>\n",
       "      <td>0.337128</td>\n",
       "    </tr>\n",
       "    <tr>\n",
       "      <th>3</th>\n",
       "      <td>S</td>\n",
       "      <td>C</td>\n",
       "      <td>0.275689</td>\n",
       "      <td>399</td>\n",
       "      <td>0.628083</td>\n",
       "    </tr>\n",
       "    <tr>\n",
       "      <th>4</th>\n",
       "      <td>S</td>\n",
       "      <td>CL</td>\n",
       "      <td>0.040100</td>\n",
       "      <td>399</td>\n",
       "      <td>0.034788</td>\n",
       "    </tr>\n",
       "    <tr>\n",
       "      <th>5</th>\n",
       "      <td>S</td>\n",
       "      <td>D</td>\n",
       "      <td>0.684211</td>\n",
       "      <td>399</td>\n",
       "      <td>0.337128</td>\n",
       "    </tr>\n",
       "    <tr>\n",
       "      <th>6</th>\n",
       "      <td>Y</td>\n",
       "      <td>C</td>\n",
       "      <td>0.023188</td>\n",
       "      <td>345</td>\n",
       "      <td>0.628083</td>\n",
       "    </tr>\n",
       "    <tr>\n",
       "      <th>7</th>\n",
       "      <td>Y</td>\n",
       "      <td>CL</td>\n",
       "      <td>0.005797</td>\n",
       "      <td>345</td>\n",
       "      <td>0.034788</td>\n",
       "    </tr>\n",
       "    <tr>\n",
       "      <th>8</th>\n",
       "      <td>Y</td>\n",
       "      <td>D</td>\n",
       "      <td>0.971014</td>\n",
       "      <td>345</td>\n",
       "      <td>0.337128</td>\n",
       "    </tr>\n",
       "  </tbody>\n",
       "</table>\n",
       "</div>"
      ],
      "text/plain": [
       "  Edema Status         %  count     ori_%\n",
       "0     N      C  0.676861   7161  0.628083\n",
       "1     N     CL  0.035889   7161  0.034788\n",
       "2     N      D  0.287250   7161  0.337128\n",
       "3     S      C  0.275689    399  0.628083\n",
       "4     S     CL  0.040100    399  0.034788\n",
       "5     S      D  0.684211    399  0.337128\n",
       "6     Y      C  0.023188    345  0.628083\n",
       "7     Y     CL  0.005797    345  0.034788\n",
       "8     Y      D  0.971014    345  0.337128"
      ]
     },
     "execution_count": 87,
     "metadata": {},
     "output_type": "execute_result"
    }
   ],
   "source": [
    "counting = train.groupby(col,as_index=False)[\"id\"].count().rename({\"id\":\"count\"},axis=1)\n",
    "percentage = train.groupby([col,\"Status\"],as_index=False)[\"id\"].count()\n",
    "percentage = percentage.merge(counting,how=\"left\",on=col)\n",
    "percentage.rename({\"id\":\"%\"},axis=1,inplace=True)\n",
    "percentage[\"%\"] = percentage[\"%\"]/percentage[\"count\"]\n",
    "percentage = percentage.merge(proportion,how=\"left\",on=\"Status\")\n",
    "percentage"
   ]
  },
  {
   "cell_type": "code",
   "execution_count": 88,
   "metadata": {},
   "outputs": [
    {
     "name": "stdout",
     "output_type": "stream",
     "text": [
      "              Drug Status         %  count     ori_%\n",
      "0  D-penicillamine      C  0.617458   3895  0.628083\n",
      "1  D-penicillamine     CL  0.038768   3895  0.034788\n",
      "2  D-penicillamine      D  0.343774   3895  0.337128\n",
      "3          Placebo      C  0.638404   4010  0.628083\n",
      "4          Placebo     CL  0.030923   4010  0.034788\n",
      "5          Placebo      D  0.330673   4010  0.337128\n",
      "  Sex Status         %  count     ori_%\n",
      "0   F      C  0.645447   7336  0.628083\n",
      "1   F     CL  0.034215   7336  0.034788\n",
      "2   F      D  0.320338   7336  0.337128\n",
      "3   M      C  0.404218    569  0.628083\n",
      "4   M     CL  0.042179    569  0.034788\n",
      "5   M      D  0.553603    569  0.337128\n",
      "  Ascites Status         %  count     ori_%\n",
      "0       N      C  0.656478   7525  0.628083\n",
      "1       N     CL  0.035748   7525  0.034788\n",
      "2       N      D  0.307774   7525  0.337128\n",
      "3       Y      C  0.065789    380  0.628083\n",
      "4       Y     CL  0.015789    380  0.034788\n",
      "5       Y      D  0.918421    380  0.337128\n",
      "  Hepatomegaly Status         %  count     ori_%\n",
      "0            N      C  0.821641   3863  0.628083\n",
      "1            N     CL  0.028216   3863  0.034788\n",
      "2            N      D  0.150142   3863  0.337128\n",
      "3            Y      C  0.443097   4042  0.628083\n",
      "4            Y     CL  0.041069   4042  0.034788\n",
      "5            Y      D  0.515834   4042  0.337128\n",
      "  Spiders Status         %  count     ori_%\n",
      "0       N      C  0.716058   5966  0.628083\n",
      "1       N     CL  0.032350   5966  0.034788\n",
      "2       N      D  0.251592   5966  0.337128\n",
      "3       Y      C  0.357401   1939  0.628083\n",
      "4       Y     CL  0.042290   1939  0.034788\n",
      "5       Y      D  0.600309   1939  0.337128\n",
      "  Edema Status         %  count     ori_%\n",
      "0     N      C  0.676861   7161  0.628083\n",
      "1     N     CL  0.035889   7161  0.034788\n",
      "2     N      D  0.287250   7161  0.337128\n",
      "3     S      C  0.275689    399  0.628083\n",
      "4     S     CL  0.040100    399  0.034788\n",
      "5     S      D  0.684211    399  0.337128\n",
      "6     Y      C  0.023188    345  0.628083\n",
      "7     Y     CL  0.005797    345  0.034788\n",
      "8     Y      D  0.971014    345  0.337128\n"
     ]
    }
   ],
   "source": [
    "for col in categorical_variables:\n",
    "    counting = train.groupby(col,as_index=False)[\"id\"].count().rename({\"id\":\"count\"},axis=1)\n",
    "    percentage = train.groupby([col,\"Status\"],as_index=False)[\"id\"].count()\n",
    "    percentage = percentage.merge(counting,how=\"left\",on=col)\n",
    "    percentage.rename({\"id\":\"%\"},axis=1,inplace=True)\n",
    "    percentage[\"%\"] = percentage[\"%\"]/percentage[\"count\"]\n",
    "    percentage = percentage.merge(proportion,how=\"left\",on=\"Status\")\n",
    "    print(percentage)"
   ]
  },
  {
   "cell_type": "code",
   "execution_count": 89,
   "metadata": {},
   "outputs": [],
   "source": [
    "important_categorical_variables = [\"Sex\", \"Ascites\", \"Hepatomegaly\", \"Spiders\", \"Edema\"]"
   ]
  },
  {
   "cell_type": "code",
   "execution_count": 90,
   "metadata": {},
   "outputs": [],
   "source": [
    "most_important_categorical_variables = [\"Hepatomegaly\",\"Spiders\"]"
   ]
  },
  {
   "cell_type": "markdown",
   "metadata": {},
   "source": [
    "# splitting the data"
   ]
  },
  {
   "cell_type": "code",
   "execution_count": 94,
   "metadata": {},
   "outputs": [],
   "source": [
    "strat_train_set, strat_test_set = train_test_split(\n",
    "    train, test_size=0.2, stratify=train[\"Status\"], random_state=42)"
   ]
  },
  {
   "cell_type": "code",
   "execution_count": 95,
   "metadata": {},
   "outputs": [
    {
     "data": {
      "text/plain": [
       "(1581, 23)"
      ]
     },
     "execution_count": 95,
     "metadata": {},
     "output_type": "execute_result"
    }
   ],
   "source": [
    "strat_test_set.shape"
   ]
  },
  {
   "cell_type": "markdown",
   "metadata": {},
   "source": [
    "# One hot input"
   ]
  },
  {
   "cell_type": "code",
   "execution_count": 100,
   "metadata": {},
   "outputs": [],
   "source": [
    "cat_encoder2 = OneHotEncoder(sparse_output=False)\n",
    "cat_1hot2 = cat_encoder2.fit_transform(strat_train_set[most_important_categorical_variables])\n",
    "strat_train_set[cat_encoder2.get_feature_names_out()] = cat_1hot2"
   ]
  },
  {
   "cell_type": "code",
   "execution_count": 101,
   "metadata": {},
   "outputs": [
    {
     "data": {
      "text/plain": [
       "Index(['id', 'N_Days', 'Drug', 'Age', 'Sex', 'Ascites', 'Hepatomegaly',\n",
       "       'Spiders', 'Edema', 'Bilirubin', 'Cholesterol', 'Albumin', 'Copper',\n",
       "       'Alk_Phos', 'SGOT', 'Tryglicerides', 'Platelets', 'Prothrombin',\n",
       "       'Stage', 'Status', 'Status_C', 'Status_CL', 'Status_D',\n",
       "       'Hepatomegaly_N', 'Hepatomegaly_Y', 'Spiders_N', 'Spiders_Y'],\n",
       "      dtype='object')"
      ]
     },
     "execution_count": 101,
     "metadata": {},
     "output_type": "execute_result"
    }
   ],
   "source": [
    "strat_train_set.columns"
   ]
  },
  {
   "cell_type": "markdown",
   "metadata": {},
   "source": [
    "# training"
   ]
  },
  {
   "cell_type": "code",
   "execution_count": 107,
   "metadata": {},
   "outputs": [],
   "source": [
    "X = strat_train_set[['Hepatomegaly_N', 'Hepatomegaly_Y', 'Spiders_N', 'Spiders_Y']].values\n",
    "y = strat_train_set[\"Status\"].values"
   ]
  },
  {
   "cell_type": "code",
   "execution_count": 108,
   "metadata": {},
   "outputs": [
    {
     "data": {
      "text/plain": [
       "(array([[0., 1., 0., 1.],\n",
       "        [0., 1., 1., 0.],\n",
       "        [1., 0., 1., 0.],\n",
       "        ...,\n",
       "        [0., 1., 1., 0.],\n",
       "        [0., 1., 1., 0.],\n",
       "        [1., 0., 1., 0.]]),\n",
       " array(['C', 'C', 'C', ..., 'C', 'D', 'C'], dtype=object))"
      ]
     },
     "execution_count": 108,
     "metadata": {},
     "output_type": "execute_result"
    }
   ],
   "source": [
    "X, y"
   ]
  },
  {
   "cell_type": "code",
   "execution_count": 109,
   "metadata": {},
   "outputs": [
    {
     "name": "stderr",
     "output_type": "stream",
     "text": [
      "/usr/local/lib/python3.11/site-packages/sklearn/linear_model/_stochastic_gradient.py:713: ConvergenceWarning: Maximum number of iteration reached before convergence. Consider increasing max_iter to improve the fit.\n",
      "  warnings.warn(\n"
     ]
    },
    {
     "data": {
      "text/html": [
       "<style>#sk-container-id-1 {color: black;}#sk-container-id-1 pre{padding: 0;}#sk-container-id-1 div.sk-toggleable {background-color: white;}#sk-container-id-1 label.sk-toggleable__label {cursor: pointer;display: block;width: 100%;margin-bottom: 0;padding: 0.3em;box-sizing: border-box;text-align: center;}#sk-container-id-1 label.sk-toggleable__label-arrow:before {content: \"▸\";float: left;margin-right: 0.25em;color: #696969;}#sk-container-id-1 label.sk-toggleable__label-arrow:hover:before {color: black;}#sk-container-id-1 div.sk-estimator:hover label.sk-toggleable__label-arrow:before {color: black;}#sk-container-id-1 div.sk-toggleable__content {max-height: 0;max-width: 0;overflow: hidden;text-align: left;background-color: #f0f8ff;}#sk-container-id-1 div.sk-toggleable__content pre {margin: 0.2em;color: black;border-radius: 0.25em;background-color: #f0f8ff;}#sk-container-id-1 input.sk-toggleable__control:checked~div.sk-toggleable__content {max-height: 200px;max-width: 100%;overflow: auto;}#sk-container-id-1 input.sk-toggleable__control:checked~label.sk-toggleable__label-arrow:before {content: \"▾\";}#sk-container-id-1 div.sk-estimator input.sk-toggleable__control:checked~label.sk-toggleable__label {background-color: #d4ebff;}#sk-container-id-1 div.sk-label input.sk-toggleable__control:checked~label.sk-toggleable__label {background-color: #d4ebff;}#sk-container-id-1 input.sk-hidden--visually {border: 0;clip: rect(1px 1px 1px 1px);clip: rect(1px, 1px, 1px, 1px);height: 1px;margin: -1px;overflow: hidden;padding: 0;position: absolute;width: 1px;}#sk-container-id-1 div.sk-estimator {font-family: monospace;background-color: #f0f8ff;border: 1px dotted black;border-radius: 0.25em;box-sizing: border-box;margin-bottom: 0.5em;}#sk-container-id-1 div.sk-estimator:hover {background-color: #d4ebff;}#sk-container-id-1 div.sk-parallel-item::after {content: \"\";width: 100%;border-bottom: 1px solid gray;flex-grow: 1;}#sk-container-id-1 div.sk-label:hover label.sk-toggleable__label {background-color: #d4ebff;}#sk-container-id-1 div.sk-serial::before {content: \"\";position: absolute;border-left: 1px solid gray;box-sizing: border-box;top: 0;bottom: 0;left: 50%;z-index: 0;}#sk-container-id-1 div.sk-serial {display: flex;flex-direction: column;align-items: center;background-color: white;padding-right: 0.2em;padding-left: 0.2em;position: relative;}#sk-container-id-1 div.sk-item {position: relative;z-index: 1;}#sk-container-id-1 div.sk-parallel {display: flex;align-items: stretch;justify-content: center;background-color: white;position: relative;}#sk-container-id-1 div.sk-item::before, #sk-container-id-1 div.sk-parallel-item::before {content: \"\";position: absolute;border-left: 1px solid gray;box-sizing: border-box;top: 0;bottom: 0;left: 50%;z-index: -1;}#sk-container-id-1 div.sk-parallel-item {display: flex;flex-direction: column;z-index: 1;position: relative;background-color: white;}#sk-container-id-1 div.sk-parallel-item:first-child::after {align-self: flex-end;width: 50%;}#sk-container-id-1 div.sk-parallel-item:last-child::after {align-self: flex-start;width: 50%;}#sk-container-id-1 div.sk-parallel-item:only-child::after {width: 0;}#sk-container-id-1 div.sk-dashed-wrapped {border: 1px dashed gray;margin: 0 0.4em 0.5em 0.4em;box-sizing: border-box;padding-bottom: 0.4em;background-color: white;}#sk-container-id-1 div.sk-label label {font-family: monospace;font-weight: bold;display: inline-block;line-height: 1.2em;}#sk-container-id-1 div.sk-label-container {text-align: center;}#sk-container-id-1 div.sk-container {/* jupyter's `normalize.less` sets `[hidden] { display: none; }` but bootstrap.min.css set `[hidden] { display: none !important; }` so we also need the `!important` here to be able to override the default hidden behavior on the sphinx rendered scikit-learn.org. See: https://github.com/scikit-learn/scikit-learn/issues/21755 */display: inline-block !important;position: relative;}#sk-container-id-1 div.sk-text-repr-fallback {display: none;}</style><div id=\"sk-container-id-1\" class=\"sk-top-container\"><div class=\"sk-text-repr-fallback\"><pre>SGDClassifier(loss=&#x27;log_loss&#x27;, max_iter=5, random_state=42)</pre><b>In a Jupyter environment, please rerun this cell to show the HTML representation or trust the notebook. <br />On GitHub, the HTML representation is unable to render, please try loading this page with nbviewer.org.</b></div><div class=\"sk-container\" hidden><div class=\"sk-item\"><div class=\"sk-estimator sk-toggleable\"><input class=\"sk-toggleable__control sk-hidden--visually\" id=\"sk-estimator-id-1\" type=\"checkbox\" checked><label for=\"sk-estimator-id-1\" class=\"sk-toggleable__label sk-toggleable__label-arrow\">SGDClassifier</label><div class=\"sk-toggleable__content\"><pre>SGDClassifier(loss=&#x27;log_loss&#x27;, max_iter=5, random_state=42)</pre></div></div></div></div></div>"
      ],
      "text/plain": [
       "SGDClassifier(loss='log_loss', max_iter=5, random_state=42)"
      ]
     },
     "execution_count": 109,
     "metadata": {},
     "output_type": "execute_result"
    }
   ],
   "source": [
    "clf = SGDClassifier(loss=\"log_loss\", max_iter=5,random_state=42)\n",
    "clf.fit(X, y)"
   ]
  },
  {
   "cell_type": "markdown",
   "metadata": {},
   "source": [
    "# Evaluating 2nd model"
   ]
  },
  {
   "cell_type": "code",
   "execution_count": 110,
   "metadata": {},
   "outputs": [],
   "source": [
    "y_hat = clf.predict_proba(X)"
   ]
  },
  {
   "cell_type": "code",
   "execution_count": 111,
   "metadata": {},
   "outputs": [
    {
     "data": {
      "text/plain": [
       "(6324, 3)"
      ]
     },
     "execution_count": 111,
     "metadata": {},
     "output_type": "execute_result"
    }
   ],
   "source": [
    "y_hat.shape"
   ]
  },
  {
   "cell_type": "code",
   "execution_count": 112,
   "metadata": {},
   "outputs": [
    {
     "data": {
      "text/plain": [
       "array([[0.22424522, 0.03524554, 0.74050924],\n",
       "       [0.43318741, 0.04166659, 0.525146  ],\n",
       "       [0.80177707, 0.03958745, 0.15863548],\n",
       "       ...,\n",
       "       [0.43318741, 0.04166659, 0.525146  ],\n",
       "       [0.43318741, 0.04166659, 0.525146  ],\n",
       "       [0.80177707, 0.03958745, 0.15863548]])"
      ]
     },
     "execution_count": 112,
     "metadata": {},
     "output_type": "execute_result"
    }
   ],
   "source": [
    "y_hat"
   ]
  },
  {
   "cell_type": "code",
   "execution_count": 113,
   "metadata": {},
   "outputs": [
    {
     "data": {
      "text/plain": [
       "array(['D', 'D', 'C', ..., 'D', 'D', 'C'], dtype='<U2')"
      ]
     },
     "execution_count": 113,
     "metadata": {},
     "output_type": "execute_result"
    }
   ],
   "source": [
    "clf.predict(X)"
   ]
  },
  {
   "cell_type": "code",
   "execution_count": 114,
   "metadata": {},
   "outputs": [
    {
     "data": {
      "text/plain": [
       "array(['C', 'CL', 'D'], dtype='<U2')"
      ]
     },
     "execution_count": 114,
     "metadata": {},
     "output_type": "execute_result"
    }
   ],
   "source": [
    "clf.classes_"
   ]
  },
  {
   "cell_type": "code",
   "execution_count": 117,
   "metadata": {},
   "outputs": [
    {
     "data": {
      "text/plain": [
       "0.6804385961144375"
      ]
     },
     "execution_count": 117,
     "metadata": {},
     "output_type": "execute_result"
    }
   ],
   "source": [
    "error = log_loss(strat_train_set[[\"Status_C\",\"Status_CL\",\"Status_D\"]],y_hat)\n",
    "error"
   ]
  },
  {
   "cell_type": "code",
   "execution_count": 120,
   "metadata": {},
   "outputs": [],
   "source": [
    "cat_1hot_test = cat_encoder2.transform(strat_test_set[most_important_categorical_variables])\n",
    "strat_test_set[cat_encoder2.get_feature_names_out()] = cat_1hot_test"
   ]
  },
  {
   "cell_type": "code",
   "execution_count": 121,
   "metadata": {},
   "outputs": [],
   "source": [
    "X_test = strat_test_set[['Hepatomegaly_N', 'Hepatomegaly_Y', 'Spiders_N', 'Spiders_Y']].values\n",
    "y_test = strat_test_set[\"Status\"].values"
   ]
  },
  {
   "cell_type": "code",
   "execution_count": 122,
   "metadata": {},
   "outputs": [],
   "source": [
    "\n",
    "y_hat_test = clf.predict_proba(X_test)"
   ]
  },
  {
   "cell_type": "code",
   "execution_count": 123,
   "metadata": {},
   "outputs": [
    {
     "data": {
      "text/plain": [
       "0.69680293443312"
      ]
     },
     "execution_count": 123,
     "metadata": {},
     "output_type": "execute_result"
    }
   ],
   "source": [
    "error = log_loss(strat_test_set[[\"Status_C\",\"Status_CL\",\"Status_D\"]],y_hat_test)\n",
    "error"
   ]
  },
  {
   "cell_type": "markdown",
   "metadata": {},
   "source": [
    "# prediction 2nd model"
   ]
  },
  {
   "cell_type": "code",
   "execution_count": 124,
   "metadata": {},
   "outputs": [],
   "source": [
    "cat_1hot_test_final = cat_encoder2.transform(test[most_important_categorical_variables])\n",
    "test[cat_encoder2.get_feature_names_out()] = cat_1hot_test_final\n",
    "X_test_final = test[['Hepatomegaly_N', 'Hepatomegaly_Y', 'Spiders_N', 'Spiders_Y']].values\n",
    "y_hat_test_final = clf.predict_proba(X_test_final)\n",
    "test[cat_encoder.get_feature_names_out()] = y_hat_test_final"
   ]
  },
  {
   "cell_type": "code",
   "execution_count": 130,
   "metadata": {},
   "outputs": [],
   "source": [
    "cols = [\"id\"]+list(cat_encoder.get_feature_names_out())\n",
    "test[cols].to_csv(\"../data/2nd-model-answer.csv\",index=False)"
   ]
  },
  {
   "cell_type": "markdown",
   "metadata": {},
   "source": [
    "# preparing deployment"
   ]
  },
  {
   "cell_type": "code",
   "execution_count": 133,
   "metadata": {},
   "outputs": [],
   "source": [
    "dicts = strat_train_set[['Hepatomegaly_N', 'Hepatomegaly_Y', 'Spiders_N', 'Spiders_Y']].to_dict(orient='records')\n",
    "\n",
    "dv = DictVectorizer(sparse=False)\n",
    "X_train = dv.fit_transform(dicts)"
   ]
  },
  {
   "cell_type": "code",
   "execution_count": 135,
   "metadata": {},
   "outputs": [],
   "source": [
    "output_file = '../models/sgd-classifier.bin'\n",
    "with open(output_file, 'wb') as f_out: \n",
    "    pickle.dump((dv, clf), f_out)"
   ]
  },
  {
   "cell_type": "code",
   "execution_count": 136,
   "metadata": {},
   "outputs": [],
   "source": [
    "with open(output_file, 'rb') as f_in: \n",
    "    dv2, model = pickle.load(f_in)"
   ]
  },
  {
   "cell_type": "code",
   "execution_count": 137,
   "metadata": {},
   "outputs": [],
   "source": [
    "customer = {\n",
    "    'gender': 'female',\n",
    "    'seniorcitizen': 0,\n",
    "    'partner': 'yes',\n",
    "    'dependents': 'no',\n",
    "    'phoneservice': 'no',\n",
    "    'multiplelines': 'no_phone_service',\n",
    "    'internetservice': 'dsl',\n",
    "    'onlinesecurity': 'no',\n",
    "    'onlinebackup': 'yes',\n",
    "    'deviceprotection': 'no',\n",
    "    'techsupport': 'no',\n",
    "    'streamingtv': 'no',\n",
    "    'streamingmovies': 'no',\n",
    "    'contract': 'month-to-month',\n",
    "    'paperlessbilling': 'yes',\n",
    "    'paymentmethod': 'electronic_check',\n",
    "    'tenure': 1,\n",
    "    'monthlycharges': 29.85,\n",
    "    'totalcharges': 29.85\n",
    "}"
   ]
  },
  {
   "cell_type": "code",
   "execution_count": 138,
   "metadata": {},
   "outputs": [],
   "source": [
    "X = dv2.transform([customer])"
   ]
  },
  {
   "cell_type": "code",
   "execution_count": 139,
   "metadata": {},
   "outputs": [],
   "source": [
    "y_pred = model.predict_proba(X)"
   ]
  },
  {
   "cell_type": "code",
   "execution_count": 140,
   "metadata": {},
   "outputs": [
    {
     "name": "stdout",
     "output_type": "stream",
     "text": [
      "input: {'gender': 'female', 'seniorcitizen': 0, 'partner': 'yes', 'dependents': 'no', 'phoneservice': 'no', 'multiplelines': 'no_phone_service', 'internetservice': 'dsl', 'onlinesecurity': 'no', 'onlinebackup': 'yes', 'deviceprotection': 'no', 'techsupport': 'no', 'streamingtv': 'no', 'streamingmovies': 'no', 'contract': 'month-to-month', 'paperlessbilling': 'yes', 'paymentmethod': 'electronic_check', 'tenure': 1, 'monthlycharges': 29.85, 'totalcharges': 29.85}\n",
      "output: [[0.6042719 0.0240157 0.3717124]]\n"
     ]
    }
   ],
   "source": [
    "print('input:', customer)\n",
    "print('output:', y_pred)"
   ]
  },
  {
   "cell_type": "code",
   "execution_count": 1,
   "metadata": {},
   "outputs": [
    {
     "name": "stdout",
     "output_type": "stream",
     "text": [
      "{'Status_C': 0.6042718970156338, 'Status_CL': 0.024015701588080078, 'Status_D': 0.37171240139628614, 'id': 532}\n"
     ]
    }
   ],
   "source": [
    "import requests\n",
    "customer = {\n",
    "    \"id\":532,\n",
    "    'gender': 'female',\n",
    "    'seniorcitizen': 0,\n",
    "    'partner': 'yes',\n",
    "    'dependents': 'no',\n",
    "    'phoneservice': 'no',\n",
    "    'multiplelines': 'no_phone_service',\n",
    "    'internetservice': 'dsl',\n",
    "    'onlinesecurity': 'no',\n",
    "    'onlinebackup': 'yes',\n",
    "    'deviceprotection': 'no',\n",
    "    'techsupport': 'no',\n",
    "    'streamingtv': 'no',\n",
    "    'streamingmovies': 'no',\n",
    "    'contract': 'month-to-month',\n",
    "    'paperlessbilling': 'yes',\n",
    "    'paymentmethod': 'electronic_check',\n",
    "    'tenure': 1,\n",
    "    'monthlycharges': 29.85,\n",
    "    'totalcharges': 29.85\n",
    "}\n",
    "\n",
    "url = 'http://localhost:9695/predict'\n",
    "\n",
    "response = requests.post(url, json=customer).json()\n",
    "print(response)"
   ]
  },
  {
   "cell_type": "code",
   "execution_count": null,
   "metadata": {},
   "outputs": [],
   "source": []
  }
 ],
 "metadata": {
  "kernelspec": {
   "display_name": "Python 3",
   "language": "python",
   "name": "python3"
  },
  "language_info": {
   "codemirror_mode": {
    "name": "ipython",
    "version": 3
   },
   "file_extension": ".py",
   "mimetype": "text/x-python",
   "name": "python",
   "nbconvert_exporter": "python",
   "pygments_lexer": "ipython3",
   "version": "3.11.5"
  }
 },
 "nbformat": 4,
 "nbformat_minor": 2
}
